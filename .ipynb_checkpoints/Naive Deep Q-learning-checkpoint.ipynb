{
 "cells": [
  {
   "cell_type": "markdown",
   "metadata": {},
   "source": [
    "# Naive Deep Q-learning"
   ]
  },
  {
   "cell_type": "markdown",
   "metadata": {},
   "source": [
    "This notebook implements a naive deep Q-learning algorithm in combination with a neural network. The neural network's objective is to approximate the optimal Q-value for each state-action pair in our environment. \n",
    "\n",
    "We use a neural network with two linear layers that take a low-level representation of the environment as input and output the Q-values, corresponding to the actions an agent can take from that state. \n",
    "\n",
    "SGD will be used as an optimizer with mean square error as a loss function. This naive deep Q-learning algorithm's overall goal is to serve as a benchmark for further improvement, and thus hyperparameter tuning will not be considered in this notebook. Due note, in this naive implementation, we use the same DQN for choosing and evaluate the maximum Q-value. We do not introduce a second network, called the target network, for evaluating the optimal Q-values. \n",
    "\n",
    "We test our algorithm on the \"CartPole-v0\" environment from OpenAI Gym. A pole is attached by an un-actuated joint to a cart, which moves along a frictionless track. The system is controlled by applying a force of +1 or -1 to the cart. The pendulum starts upright, and the goal is to prevent it from falling over. A reward of +1 is provided for every timestep that the pole remains upright. The episode ends when the pole is more than 15 degrees from vertical, or the cart moves more than 2.4 units from the center [OpenAI Gym].\n",
    "\n",
    "References: https://gym.openai.com/envs/CartPole-v0/"
   ]
  },
  {
   "cell_type": "markdown",
   "metadata": {},
   "source": [
    "## Import Libraries"
   ]
  },
  {
   "cell_type": "code",
   "execution_count": 11,
   "metadata": {},
   "outputs": [],
   "source": [
    "import torch \n",
    "import torch.nn as nn\n",
    "import torch.nn.functional as F\n",
    "import torch.optim as optim\n",
    "import torch as T\n",
    "\n",
    "import gym\n",
    "import random\n",
    "import numpy as np\n",
    "\n",
    "from ipynb.fs.full.Plotting import plot\n",
    "import matplotlib.pyplot as plt"
   ]
  },
  {
   "cell_type": "code",
   "execution_count": 12,
   "metadata": {},
   "outputs": [],
   "source": [
    "random.seed(10)"
   ]
  },
  {
   "cell_type": "markdown",
   "metadata": {},
   "source": [
    "## Naive Deep Q-network"
   ]
  },
  {
   "cell_type": "code",
   "execution_count": 13,
   "metadata": {},
   "outputs": [],
   "source": [
    "class LinearDeepQNetwork(nn.Module):\n",
    "    def __init__(self, observation_space, action_space, learning_rate):\n",
    "        super(LinearDeepQNetwork, self).__init__()\n",
    "        \n",
    "        self.observation_space = observation_space\n",
    "        self.action_space = action_space\n",
    "        self.learning_rate = learning_rate\n",
    "        \n",
    "        self.fc1 = nn.Linear(*self.observation_space, 128)\n",
    "        self.fc2 = nn.Linear(128, self.action_space)\n",
    "        \n",
    "        self.optimizer = optim.SGD(self.parameters(), lr = self.learning_rate)\n",
    "        self.device = T.device('cuda:0' if T.cuda.is_available() else 'cpu')\n",
    "        self.loss = nn.MSELoss()\n",
    "        self.to(self.device)\n",
    "        \n",
    "    def forward(self, observation):\n",
    "        layer1 = F.relu(self.fc1(observation))\n",
    "        actions = self.fc2(layer1)\n",
    "        \n",
    "        return actions  "
   ]
  },
  {
   "cell_type": "markdown",
   "metadata": {},
   "source": [
    "## Reinforcement Learning Agent"
   ]
  },
  {
   "cell_type": "code",
   "execution_count": 14,
   "metadata": {},
   "outputs": [],
   "source": [
    "class Agent():\n",
    "    def __init__(self, observation_space, action_space, learning_rate = 0.001, discount_rate = 0.99, exploration_rate = 1.0,\n",
    "                 max_exploration_rate = 1, min_exploration_rate = 0.01,  exploration_decay_rate = 0.001):\n",
    "        \n",
    "        self.episode = 0\n",
    "        \n",
    "        self.observation_space = observation_space\n",
    "        self.action_space = action_space\n",
    "        \n",
    "        self.learning_rate = learning_rate\n",
    "        self.discount_rate = discount_rate\n",
    "        \n",
    "        self.exploration_rate = exploration_rate\n",
    "        self.max_exploration_rate = max_exploration_rate\n",
    "        self.min_exploration_rate = min_exploration_rate\n",
    "        self.exploration_decay_rate = exploration_decay_rate\n",
    "        \n",
    "        self.policy_network = LinearDeepQNetwork(self.observation_space, self.action_space, self.learning_rate)\n",
    "        \n",
    "    def choice_action(self, observation):\n",
    "        exploration_rate_threshold = np.random.random()\n",
    "        if exploration_rate_threshold > self.exploration_rate:\n",
    "            observation = T.tensor(observation, dtype = T.float).to(self.policy_network.device)\n",
    "            actions = self.policy_network.forward(observation) # Q-values for action in state.\n",
    "            action = T.argmax(actions).item() # Best Q-value for action in state.\n",
    "        else:\n",
    "            action = np.random.choice(self.action_space) # Random action.\n",
    "            \n",
    "        return action\n",
    "    \n",
    "    def decrease_exploration_rate(self):\n",
    "        self.exploration_rate = self.min_exploration_rate + \\\n",
    "            (self.max_exploration_rate - self.min_exploration_rate) * np.exp(- self.exploration_decay_rate * self.episode)\n",
    "        self.episode += 1\n",
    "\n",
    "    def learn(self, observation, action, reward, next_observation):\n",
    "        # Set gradient to zero.\n",
    "        self.policy_network.optimizer.zero_grad()\n",
    "        \n",
    "        # Convert to tensors.\n",
    "        observation = T.tensor(observation, dtype = T.float).to(self.policy_network.device)\n",
    "        action = T.tensor(action).to(self.policy_network.device)\n",
    "        reward = T.tensor(reward).to(self.policy_network.device)\n",
    "        next_observation = T.tensor(next_observation, dtype = T.float).to(self.policy_network.device)\n",
    "        \n",
    "        # Calculate loss using Bellman equation.\n",
    "        q_pred = self.policy_network.forward(observation)[action]\n",
    "        q_next = self.policy_network.forward(next_observation).max()\n",
    "        q_target = reward + self.exploration_rate * q_next\n",
    "        loss = self.policy_network.loss(q_target, q_pred).to(self.policy_network.device)\n",
    "        \n",
    "        # Optimizer in action.\n",
    "        loss.backward()\n",
    "        self.policy_network.optimizer.step()"
   ]
  },
  {
   "cell_type": "markdown",
   "metadata": {},
   "source": [
    "## Main Program"
   ]
  },
  {
   "cell_type": "code",
   "execution_count": 15,
   "metadata": {},
   "outputs": [
    {
     "data": {
      "image/png": "[encoded data removed]",
      "text/plain": [
       "<Figure size 864x216 with 2 Axes>"
      ]
     },
     "metadata": {
      "needs_background": "light"
     },
     "output_type": "display_data"
    }
   ],
   "source": [
    "episodes = 10000\n",
    "env = gym.make('CartPole-v1')\n",
    "agent = Agent(env.observation_space.shape, env.action_space.n)\n",
    "\n",
    "scores, exploration_rate_history = [], []\n",
    "\n",
    "for i in range(episodes):\n",
    "    observation = env.reset()\n",
    "    done = False\n",
    "    score = 0.0\n",
    "    \n",
    "    while not done:\n",
    "        action = agent.choice_action(observation)\n",
    "        next_observation, reward, done, info = env.step(action)\n",
    "        agent.learn(observation, action, reward, next_observation)\n",
    "        observation = next_observation\n",
    "        score += reward\n",
    "    \n",
    "    scores.append(score)\n",
    "    exploration_rate_history.append(agent.exploration_rate)\n",
    "    agent.decrease_exploration_rate()    \n",
    "\n",
    "plot(episodes, scores, exploration_rate_history)"
   ]
  },
  {
   "cell_type": "code",
   "execution_count": null,
   "metadata": {},
   "outputs": [],
   "source": []
  }
 ],
 "metadata": {
  "kernelspec": {
   "display_name": "Python 3",
   "language": "python",
   "name": "python3"
  },
  "language_info": {
   "codemirror_mode": {
    "name": "ipython",
    "version": 3
   },
   "file_extension": ".py",
   "mimetype": "text/x-python",
   "name": "python",
   "nbconvert_exporter": "python",
   "pygments_lexer": "ipython3",
   "version": "3.8.5"
  }
 },
 "nbformat": 4,
 "nbformat_minor": 4
}
