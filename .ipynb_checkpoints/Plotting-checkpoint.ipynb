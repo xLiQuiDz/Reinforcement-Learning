{
 "cells": [
  {
   "cell_type": "markdown",
   "metadata": {},
   "source": [
    "# Plotting"
   ]
  },
  {
   "cell_type": "markdown",
   "metadata": {},
   "source": [
    "Plotting library for reinforcement learning algorithms."
   ]
  },
  {
   "cell_type": "markdown",
   "metadata": {},
   "source": [
    "## Import Libraries"
   ]
  },
  {
   "cell_type": "code",
   "execution_count": 18,
   "metadata": {},
   "outputs": [],
   "source": [
    "import numpy as np\n",
    "import matplotlib.pyplot as plt"
   ]
  },
  {
   "cell_type": "code",
   "execution_count": 21,
   "metadata": {},
   "outputs": [],
   "source": [
    "def plot(episodes, scores, exploration_rate_history):\n",
    "    \n",
    "    scores = np.array(scores)\n",
    "    exploration_rate_history = np.array(exploration_rate_history)\n",
    "    \n",
    "    fig = plt.figure(figsize=(12,3))\n",
    "    ax1 = fig.add_subplot(111, label = \"1\")\n",
    "    ax2 = fig.add_subplot(111, label = \"2\", frame_on = False)\n",
    "    \n",
    "    ax1.plot(np.arange(1, episodes + 1), exploration_rate_history, label = 'Exploration Rate', color = 'b' )\n",
    "    \n",
    "    ax1.set_xlabel(\"Training Steps\")\n",
    "    ax1.set_ylabel(\"Exploration Rate\")\n",
    "    ax1.tick_params(axis = 'x')\n",
    "    ax1.tick_params(axis = 'y')\n",
    "    \n",
    "    average_scores = np.mean(scores.reshape(-1, 100), axis = 1)\n",
    "    \n",
    "    ax2.plot(np.arange(100, episodes + 1, 100), average_scores, label = 'Average Score', color = 'y', marker = '.', linestyle ='--')\n",
    "    \n",
    "    ax2.axes.get_xaxis().set_visible(False)\n",
    "    ax2.yaxis.tick_right()\n",
    "    ax2.set_ylabel('Score')\n",
    "    ax2.yaxis.set_label_position('right')\n",
    "    ax2.tick_params(axis = 'y')\n",
    "\n",
    "    plt.grid('True')\n",
    "    ax2.legend()\n",
    "    plt.show()"
   ]
  },
  {
   "cell_type": "code",
   "execution_count": null,
   "metadata": {},
   "outputs": [],
   "source": []
  },
  {
   "cell_type": "code",
   "execution_count": null,
   "metadata": {},
   "outputs": [],
   "source": []
  }
 ],
 "metadata": {
  "kernelspec": {
   "display_name": "Python 3",
   "language": "python",
   "name": "python3"
  },
  "language_info": {
   "codemirror_mode": {
    "name": "ipython",
    "version": 3
   },
   "file_extension": ".py",
   "mimetype": "text/x-python",
   "name": "python",
   "nbconvert_exporter": "python",
   "pygments_lexer": "ipython3",
   "version": "3.8.5"
  }
 },
 "nbformat": 4,
 "nbformat_minor": 4
}
