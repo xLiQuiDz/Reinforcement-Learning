{
 "cells": [
  {
   "cell_type": "markdown",
   "metadata": {},
   "source": [
    "## Monte Carlo"
   ]
  },
  {
   "cell_type": "markdown",
   "metadata": {},
   "source": [
    "There exists some set of optimum policies that maximize the agent's total returns over time. These are defined in terms of some optimal action-value functions. In this notebook, we're going to set about the business of actually finding those action-value functions and policies. We're going to use what are called Monte Carlo methods to do this. These are a class of algorithms that effectively learn from experience and require no model or prior knowledge of the environment the agent will learn by keeping track of the rewards it receives every time it encounters a state and then averaging that sequence of rewards by playing enough games. The agent will get a good sampling of each state and calculate an accurate value of each given state. These estimates are updated once per episode and end by replaying the memory of states encountered, and rewards received.\n",
    "\n",
    "Finding the optimal action-value functions and then using that to optimize the policy is two discrete sets of operations. Some algorithms calculate the state value and action-value functions, and then there are some algorithms for finding the optimal policies. These are called the prediction and control problems. These two classes of algorithms play together in a framework known as generalized policy iteration. We start with some policy, calculate its action-value function and then approve the policy by making it greedy with respect to the current value. We can do both policy evaluation and improvement simultaneously in a sequence, or we can do them one at a time. We can update values for all possible states or only the states that are convenient and so on. What matters here is that we're both evaluating in improving the policy in generalized policy iteration. We calculate the action-value of a given policy by keeping track of the states the agent saw and the rewards it received and then take the average of the rewards at the end of the episode as a function of the states it encountered. We repeat this process for many episodes. \n",
    "\n",
    "We test our algorithms using the OpenAI blackjack environment, where the goal is to win as many games. The state-space is a tree-tuple. The player's total sum, the dealer showing card, and a boolean for usable ace. \n",
    "\n",
    "**References:**\n",
    "- https://gym.openai.com/envs/Blackjack-v0/\n",
    "- https://github.com/philtabor/Actor-Critic-Methods-Paper-To-Code"
   ]
  },
  {
   "cell_type": "markdown",
   "metadata": {},
   "source": [
    "## Import Libraries"
   ]
  },
  {
   "cell_type": "code",
   "execution_count": 1,
   "metadata": {},
   "outputs": [],
   "source": [
    "import gym\n",
    "import random\n",
    "import numpy as np\n",
    "\n",
    "from ipynb.fs.full.Plotting import *\n",
    "import matplotlib.pyplot as plt"
   ]
  },
  {
   "cell_type": "code",
   "execution_count": 114,
   "metadata": {},
   "outputs": [],
   "source": [
    "random.seed(2021)"
   ]
  },
  {
   "cell_type": "markdown",
   "metadata": {},
   "source": [
    "## Reinforcement Learning Agent"
   ]
  },
  {
   "cell_type": "code",
   "execution_count": 177,
   "metadata": {},
   "outputs": [],
   "source": [
    "class Agent():\n",
    "    def __init__(self, observation_space, action_space, dealer_observation_space, usable_ace, discount_rate = 0.99,\n",
    "                 exploration_rate = 0.001):\n",
    "        \n",
    "        self.observation_space = observation_space\n",
    "        self.action_space = action_space\n",
    "        self.dealer_observation_space = dealer_observation_space\n",
    "        self.usable_ace = usable_ace\n",
    "        \n",
    "        self.exploration_rate = exploration_rate\n",
    "        self.discount_rate = discount_rate\n",
    "\n",
    "        self.Q = {}\n",
    "        self.returns = {}\n",
    "        self.pairs_visited = {} # First visit.\n",
    "\n",
    "        self.memory = []\n",
    "        self.state_space = []\n",
    "\n",
    "        self.initialization()\n",
    "\n",
    "    def initialization(self):\n",
    "        policy = {}\n",
    "        for total in range(self.observation_space):\n",
    "            for card in range(self.dealer_observation_space):\n",
    "                for ace in range(self.usable_ace):\n",
    "                    observation = (total, card, ace)\n",
    "                    self.state_space.append(observation)\n",
    "                    for action in range(self.action_space):\n",
    "                        self.Q[(observation, action)] = 0\n",
    "                        self.returns[(observation, action)] = []\n",
    "                        self.pairs_visited[(observation, action)] = 0\n",
    "                    \n",
    "\n",
    "        for observation in self.state_space:\n",
    "            policy[observation] = [1/self.action_space for _ in range(self.usable_ace)]\n",
    "        self.policy = policy\n",
    "            \n",
    "    def choose_action(self, observation):\n",
    "        action = np.random.choice(self.action_space, p = self.policy[observation])\n",
    "        return action\n",
    "\n",
    "    def update_Q(self):\n",
    "        for index, (observation, action, _) in enumerate(self.memory):\n",
    "            G = 0\n",
    "            discount = 1\n",
    "            if self.pairs_visited[(observation, action)] == 0:\n",
    "                self.pairs_visited[(observation, action)] += 1\n",
    "                for (_, _, reward) in self.memory[index:]:\n",
    "                    G += reward * discount\n",
    "                    discount *= self.discount_rate\n",
    "                    self.returns[(observation, action)].append(G)\n",
    "\n",
    "        for observation, action, _ in self.memory:\n",
    "            self.Q[(observation, action)] = np.mean(self.returns[(observation, action)])\n",
    "            self.update_policy(observation)\n",
    "\n",
    "        for state_action in self.pairs_visited.keys():\n",
    "            self.pairs_visited[state_action] = 0\n",
    "\n",
    "        self.memory = []\n",
    "        \n",
    "    def update_policy(self, observation):\n",
    "        actions = [self.Q[(observation, a)] for a in range(self.action_space)]\n",
    "        a_max = np.argmax(actions)\n",
    "        n_actions = self.action_space\n",
    "        probs = []\n",
    "        for action in range(self.action_space):\n",
    "            prob = 1 - self.exploration_rate + self.exploration_rate / n_actions if action == a_max else \\\n",
    "                    self.exploration_rate / n_actions\n",
    "            probs.append(prob)\n",
    "        self.policy[observation] = probs"
   ]
  },
  {
   "cell_type": "markdown",
   "metadata": {},
   "source": [
    "## Main Program"
   ]
  },
  {
   "cell_type": "code",
   "execution_count": 178,
   "metadata": {},
   "outputs": [],
   "source": [
    "step = 0\n",
    "episodes = 200000"
   ]
  },
  {
   "cell_type": "code",
   "execution_count": 179,
   "metadata": {},
   "outputs": [
    {
     "name": "stdout",
     "output_type": "stream",
     "text": [
      "starting episode 0 win rate 0.000\n",
      "starting episode 50000 win rate 0.409\n",
      "starting episode 100000 win rate 0.408\n",
      "starting episode 150000 win rate 0.409\n"
     ]
    },
    {
     "data": {
      "image/png": "[encoded data removed]",
      "text/plain": [
       "<Figure size 432x288 with 1 Axes>"
      ]
     },
     "metadata": {
      "needs_background": "light"
     },
     "output_type": "display_data"
    }
   ],
   "source": [
    "env = gym.make('Blackjack-v0')\n",
    "\n",
    "observation_space = env.observation_space[0].n\n",
    "action_space = env.action_space.n\n",
    "dealer_observation_space = env.observation_space[1].n\n",
    "usable_ace = env.observation_space[2].n\n",
    "agent = Agent(observation_space, action_space, dealer_observation_space, usable_ace)\n",
    "\n",
    "win_lose_draw = {-1:0, 0:0, 1:0}\n",
    "win_rates = []\n",
    "\n",
    "for i in range(episodes):\n",
    "    if i > 0 and i % 1000 == 0:\n",
    "        pct = win_lose_draw[1] / i\n",
    "        win_rates.append(pct)\n",
    "    if i % 50000 == 0:\n",
    "        rates = win_rates[-1] if win_rates else 0.0\n",
    "        print('starting episode', i, 'win rate %.3f' % rates)\n",
    "    observation = env.reset()\n",
    "    done = False\n",
    "    while not done:\n",
    "        action = agent.choose_action(observation)\n",
    "        observation_, reward, done, info = env.step(action)\n",
    "        agent.memory.append((observation, action, reward))\n",
    "        observation = observation_\n",
    "    agent.update_Q()\n",
    "    win_lose_draw[reward] += 1\n",
    "plt.plot(win_rates)\n",
    "plt.show()"
   ]
  }
 ],
 "metadata": {
  "kernelspec": {
   "display_name": "Python 3",
   "language": "python",
   "name": "python3"
  },
  "language_info": {
   "codemirror_mode": {
    "name": "ipython",
    "version": 3
   },
   "file_extension": ".py",
   "mimetype": "text/x-python",
   "name": "python",
   "nbconvert_exporter": "python",
   "pygments_lexer": "ipython3",
   "version": "3.8.5"
  }
 },
 "nbformat": 4,
 "nbformat_minor": 4
}
