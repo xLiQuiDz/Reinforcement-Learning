{
 "cells": [
  {
   "cell_type": "markdown",
   "metadata": {},
   "source": [
    "# Reinforce"
   ]
  },
  {
   "cell_type": "markdown",
   "metadata": {},
   "source": [
    "## Import Libraries"
   ]
  },
  {
   "cell_type": "code",
   "execution_count": 1,
   "metadata": {},
   "outputs": [],
   "source": [
    "import gym\n",
    "import numpy as np\n",
    "import torch as T\n",
    "import torch.nn as nn\n",
    "import torch.nn.functional as F\n",
    "import matplotlib.pyplot as plt\n",
    "import torch.optim as optim"
   ]
  },
  {
   "cell_type": "code",
   "execution_count": null,
   "metadata": {},
   "outputs": [],
   "source": []
  },
  {
   "cell_type": "code",
   "execution_count": 5,
   "metadata": {},
   "outputs": [],
   "source": [
    "class PolicyNetwork(nn.Module):\n",
    "    def __init__(self, lr, input_dims, n_actions):\n",
    "        super(PolicyNetwork, self).__init__()\n",
    "        self.fc1 = nn.Linear(*input_dims, 128)\n",
    "        self.fc2 = nn.Linear(128, 128)\n",
    "        self.fc3 = nn.Linear(128, n_actions)\n",
    "        self.optimizer = optim.Adam(self.parameters(), lr=lr)\n",
    "\n",
    "        self.device = T.device('cuda:0' if T.cuda.is_available() else 'cpu')\n",
    "        self.to(self.device)\n",
    "\n",
    "    def forward(self, state):\n",
    "        x = F.relu(self.fc1(state))\n",
    "        x = F.relu(self.fc2(x))\n",
    "        x = self.fc3(x)\n",
    "\n",
    "        return x\n",
    "\n",
    "class PolicyGradientAgent():\n",
    "    def __init__(self, lr, input_dims, gamma=0.99, n_actions=4):\n",
    "        self.gamma = gamma\n",
    "        self.lr = lr\n",
    "        self.reward_memory = []\n",
    "        self.action_memory = []\n",
    "\n",
    "        self.policy = PolicyNetwork(self.lr, input_dims, n_actions)\n",
    "\n",
    "    def choose_action(self, observation):\n",
    "        state = T.Tensor([observation]).to(self.policy.device)\n",
    "        probabilities = F.softmax(self.policy.forward(state))\n",
    "        action_probs = T.distributions.Categorical(probabilities)\n",
    "        action = action_probs.sample()\n",
    "        log_probs = action_probs.log_prob(action)\n",
    "        self.action_memory.append(log_probs)\n",
    "\n",
    "        return action.item()\n",
    "\n",
    "    def store_rewards(self, reward):\n",
    "        self.reward_memory.append(reward)\n",
    "\n",
    "    def learn(self):\n",
    "        self.policy.optimizer.zero_grad()\n",
    "\n",
    "        # G_t = R_t+1 + gamma * R_t+2 + gamma**2 * R_t+3\n",
    "        # G_t = sum from k=0 to k=T {gamma**k * R_t+k+1}\n",
    "        G = np.zeros_like(self.reward_memory, dtype=np.float64)\n",
    "        for t in range(len(self.reward_memory)):\n",
    "            G_sum = 0\n",
    "            discount = 1\n",
    "            for k in range(t, len(self.reward_memory)):\n",
    "                G_sum += self.reward_memory[k] * discount\n",
    "                discount *= self.gamma\n",
    "            G[t] = G_sum\n",
    "        G = T.tensor(G, dtype=T.float).to(self.policy.device)\n",
    "        \n",
    "        loss = 0\n",
    "        for g, logprob in zip(G, self.action_memory):\n",
    "            loss += -g * logprob\n",
    "        loss.backward()\n",
    "        self.policy.optimizer.step()\n",
    "\n",
    "        self.action_memory = []\n",
    "        self.reward_memory = []"
   ]
  },
  {
   "cell_type": "markdown",
   "metadata": {},
   "source": [
    "## Main Program"
   ]
  },
  {
   "cell_type": "code",
   "execution_count": null,
   "metadata": {},
   "outputs": [],
   "source": [
    "env = gym.make('LunarLander-v2')\n",
    "n_games = 3000\n",
    "agent = PolicyGradientAgent(gamma=0.99, lr=0.0005, input_dims=[8],n_actions=4)\n",
    "\n",
    "\n",
    "scores = []\n",
    "for i in range(n_games):\n",
    "    done = False\n",
    "    observation = env.reset()\n",
    "    score = 0\n",
    "    while not done:\n",
    "        action = agent.choose_action(observation)\n",
    "        observation_, reward, done, info = env.step(action)\n",
    "        score += reward\n",
    "        agent.store_rewards(reward)\n",
    "        observation = observation_\n",
    "    agent.learn()\n",
    "    scores.append(score)\n",
    "\n",
    "    avg_score = np.mean(scores[-100:])\n",
    "    print('episode ', i, 'score %.2f' % score,'average score %.2f' % avg_score)\n",
    "\n",
    "x = [i+1 for i in range(len(scores))]\n",
    "plot_learning_curve(scores, x, figure_file)"
   ]
  }
 ],
 "metadata": {
  "kernelspec": {
   "display_name": "Python 3",
   "language": "python",
   "name": "python3"
  },
  "language_info": {
   "codemirror_mode": {
    "name": "ipython",
    "version": 3
   },
   "file_extension": ".py",
   "mimetype": "text/x-python",
   "name": "python",
   "nbconvert_exporter": "python",
   "pygments_lexer": "ipython3",
   "version": "3.8.5"
  }
 },
 "nbformat": 4,
 "nbformat_minor": 4
}
